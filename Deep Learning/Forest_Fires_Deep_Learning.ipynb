{
 "cells": [
  {
   "cell_type": "markdown",
   "id": "de726aa4-ba53-402c-a46f-9a73eb84455e",
   "metadata": {
    "tags": []
   },
   "source": [
    "# Deep Learning"
   ]
  },
  {
   "cell_type": "code",
   "execution_count": 125,
   "id": "62ac016a-2f6f-4d33-a536-5084c32526ff",
   "metadata": {},
   "outputs": [],
   "source": [
    "import pandas as pd\n",
    "import matplotlib.pyplot as plt\n",
    "from sklearn import preprocessing\n",
    "from plot_keras_history import show_history, plot_history\n",
    "import plotly.graph_objects as go\n",
    "import kaleido"
   ]
  },
  {
   "cell_type": "code",
   "execution_count": 126,
   "id": "4093f8ba-6ac4-4c34-a1eb-385bc9002035",
   "metadata": {},
   "outputs": [],
   "source": [
    "import numpy as np\n",
    "import tensorflow as tf\n",
    "from tensorflow import keras\n",
    "from tensorflow.keras import layers\n",
    "from sklearn.model_selection import train_test_split\n",
    "from tensorflow.keras.models import Model\n",
    "from keras.layers import Dense, Input, Dropout\n",
    "from keras.regularizers import L1L2\n",
    "from sklearn.linear_model import LinearRegression\n",
    "from sklearn.model_selection import KFold\n",
    "from scipy.stats import zscore"
   ]
  },
  {
   "cell_type": "code",
   "execution_count": 127,
   "id": "40daf2fd-d655-4400-b884-e617652abc87",
   "metadata": {},
   "outputs": [
    {
     "data": {
      "text/html": [
       "<div>\n",
       "<style scoped>\n",
       "    .dataframe tbody tr th:only-of-type {\n",
       "        vertical-align: middle;\n",
       "    }\n",
       "\n",
       "    .dataframe tbody tr th {\n",
       "        vertical-align: top;\n",
       "    }\n",
       "\n",
       "    .dataframe thead th {\n",
       "        text-align: right;\n",
       "    }\n",
       "</style>\n",
       "<table border=\"1\" class=\"dataframe\">\n",
       "  <thead>\n",
       "    <tr style=\"text-align: right;\">\n",
       "      <th></th>\n",
       "      <th>Temp</th>\n",
       "      <th>Humidity</th>\n",
       "      <th>Wind</th>\n",
       "      <th>Rain</th>\n",
       "      <th>ISI</th>\n",
       "      <th>Actual Fire</th>\n",
       "    </tr>\n",
       "  </thead>\n",
       "  <tbody>\n",
       "    <tr>\n",
       "      <th>0</th>\n",
       "      <td>8.2</td>\n",
       "      <td>51.0</td>\n",
       "      <td>6.7</td>\n",
       "      <td>0.0</td>\n",
       "      <td>5.1</td>\n",
       "      <td>0.0</td>\n",
       "    </tr>\n",
       "    <tr>\n",
       "      <th>1</th>\n",
       "      <td>18.0</td>\n",
       "      <td>33.0</td>\n",
       "      <td>0.9</td>\n",
       "      <td>0.0</td>\n",
       "      <td>6.7</td>\n",
       "      <td>0.0</td>\n",
       "    </tr>\n",
       "    <tr>\n",
       "      <th>2</th>\n",
       "      <td>14.6</td>\n",
       "      <td>33.0</td>\n",
       "      <td>1.3</td>\n",
       "      <td>0.0</td>\n",
       "      <td>6.7</td>\n",
       "      <td>0.0</td>\n",
       "    </tr>\n",
       "    <tr>\n",
       "      <th>3</th>\n",
       "      <td>8.3</td>\n",
       "      <td>97.0</td>\n",
       "      <td>4.0</td>\n",
       "      <td>0.2</td>\n",
       "      <td>9.0</td>\n",
       "      <td>0.0</td>\n",
       "    </tr>\n",
       "    <tr>\n",
       "      <th>4</th>\n",
       "      <td>11.4</td>\n",
       "      <td>99.0</td>\n",
       "      <td>1.8</td>\n",
       "      <td>0.0</td>\n",
       "      <td>9.6</td>\n",
       "      <td>0.0</td>\n",
       "    </tr>\n",
       "    <tr>\n",
       "      <th>...</th>\n",
       "      <td>...</td>\n",
       "      <td>...</td>\n",
       "      <td>...</td>\n",
       "      <td>...</td>\n",
       "      <td>...</td>\n",
       "      <td>...</td>\n",
       "    </tr>\n",
       "    <tr>\n",
       "      <th>756</th>\n",
       "      <td>30.0</td>\n",
       "      <td>65.0</td>\n",
       "      <td>14.0</td>\n",
       "      <td>0.0</td>\n",
       "      <td>4.5</td>\n",
       "      <td>1.0</td>\n",
       "    </tr>\n",
       "    <tr>\n",
       "      <th>757</th>\n",
       "      <td>28.0</td>\n",
       "      <td>87.0</td>\n",
       "      <td>15.0</td>\n",
       "      <td>4.4</td>\n",
       "      <td>0.1</td>\n",
       "      <td>0.0</td>\n",
       "    </tr>\n",
       "    <tr>\n",
       "      <th>758</th>\n",
       "      <td>27.0</td>\n",
       "      <td>87.0</td>\n",
       "      <td>29.0</td>\n",
       "      <td>0.5</td>\n",
       "      <td>0.4</td>\n",
       "      <td>0.0</td>\n",
       "    </tr>\n",
       "    <tr>\n",
       "      <th>759</th>\n",
       "      <td>24.0</td>\n",
       "      <td>54.0</td>\n",
       "      <td>18.0</td>\n",
       "      <td>0.1</td>\n",
       "      <td>1.7</td>\n",
       "      <td>0.0</td>\n",
       "    </tr>\n",
       "    <tr>\n",
       "      <th>760</th>\n",
       "      <td>24.0</td>\n",
       "      <td>64.0</td>\n",
       "      <td>15.0</td>\n",
       "      <td>0.2</td>\n",
       "      <td>1.2</td>\n",
       "      <td>0.0</td>\n",
       "    </tr>\n",
       "  </tbody>\n",
       "</table>\n",
       "<p>760 rows × 6 columns</p>\n",
       "</div>"
      ],
      "text/plain": [
       "     Temp  Humidity  Wind  Rain  ISI  Actual Fire\n",
       "0     8.2      51.0   6.7   0.0  5.1          0.0\n",
       "1    18.0      33.0   0.9   0.0  6.7          0.0\n",
       "2    14.6      33.0   1.3   0.0  6.7          0.0\n",
       "3     8.3      97.0   4.0   0.2  9.0          0.0\n",
       "4    11.4      99.0   1.8   0.0  9.6          0.0\n",
       "..    ...       ...   ...   ...  ...          ...\n",
       "756  30.0      65.0  14.0   0.0  4.5          1.0\n",
       "757  28.0      87.0  15.0   4.4  0.1          0.0\n",
       "758  27.0      87.0  29.0   0.5  0.4          0.0\n",
       "759  24.0      54.0  18.0   0.1  1.7          0.0\n",
       "760  24.0      64.0  15.0   0.2  1.2          0.0\n",
       "\n",
       "[760 rows x 6 columns]"
      ]
     },
     "execution_count": 127,
     "metadata": {},
     "output_type": "execute_result"
    }
   ],
   "source": [
    "%store -r final_df\n",
    "final_df"
   ]
  },
  {
   "cell_type": "code",
   "execution_count": 128,
   "id": "c23fd256-9f0c-4e8b-bbd9-81033c1f45dc",
   "metadata": {},
   "outputs": [
    {
     "data": {
      "text/plain": [
       "Int64Index([ 11,  22, 266, 499, 519, 608, 609, 610, 621, 622, 633, 640, 655,\n",
       "            656, 657, 676, 735, 736, 757, 758],\n",
       "           dtype='int64')"
      ]
     },
     "execution_count": 128,
     "metadata": {},
     "output_type": "execute_result"
    }
   ],
   "source": [
    "# Remove the outliers\n",
    "final_df_remove_outliers = final_df[(np.abs(zscore(final_df)) < 3).all(axis=1)]\n",
    "\n",
    "final_df.index.difference(final_df_remove_outliers.index)"
   ]
  },
  {
   "cell_type": "code",
   "execution_count": 129,
   "id": "205a1f55-e498-4cc8-8ff7-76bfe2addcdb",
   "metadata": {},
   "outputs": [],
   "source": [
    "# Scale the data\n",
    "x = final_df_remove_outliers.values #returns a numpy array\n",
    "min_max_scaler = preprocessing.MinMaxScaler()\n",
    "x_scaled = min_max_scaler.fit_transform(x)\n",
    "final_df_scaled = pd.DataFrame(x_scaled)"
   ]
  },
  {
   "cell_type": "markdown",
   "id": "6568c5ef-cc03-40fe-9d98-8a93252c84db",
   "metadata": {
    "tags": []
   },
   "source": [
    "## Building The Model"
   ]
  },
  {
   "cell_type": "markdown",
   "id": "61d27b49-906e-47fb-8202-48de0d57a657",
   "metadata": {},
   "source": [
    "Split the dataframe into seperate parts for training and testing"
   ]
  },
  {
   "cell_type": "code",
   "execution_count": 130,
   "id": "410181d3-83ff-4805-9ddc-cd8a09827286",
   "metadata": {},
   "outputs": [],
   "source": [
    "classification_x = final_df_scaled.iloc[:,: -2].values\n",
    "classification_y = final_df_scaled.iloc[:,-1 :].values"
   ]
  },
  {
   "cell_type": "code",
   "execution_count": 131,
   "id": "efb53a83-c226-4070-b872-6accda8c516d",
   "metadata": {},
   "outputs": [
    {
     "name": "stdout",
     "output_type": "stream",
     "text": [
      "(740, 4) (740, 1)\n"
     ]
    }
   ],
   "source": [
    "print(classification_x.shape, classification_y.shape)"
   ]
  },
  {
   "cell_type": "code",
   "execution_count": 132,
   "id": "95df4d1a-2717-4ac7-be8b-203a1eb7e260",
   "metadata": {},
   "outputs": [],
   "source": [
    "regression_x = final_df_scaled.iloc[:,: -2].values\n",
    "regression_y = final_df_scaled.iloc[:,-2:-1].values"
   ]
  },
  {
   "cell_type": "code",
   "execution_count": 133,
   "id": "999b1016-6a9d-4afc-bc74-acdec3aa82f6",
   "metadata": {},
   "outputs": [
    {
     "name": "stdout",
     "output_type": "stream",
     "text": [
      "(740, 4) (740, 1)\n"
     ]
    }
   ],
   "source": [
    "print(regression_x.shape, regression_y.shape)"
   ]
  },
  {
   "cell_type": "code",
   "execution_count": 134,
   "id": "2e27e09b-5d78-4606-a651-806ccad1b162",
   "metadata": {},
   "outputs": [],
   "source": [
    "X_train_cl, X_test_cl, y_train_cl, y_test_cl = train_test_split(classification_x,classification_y, test_size=0.25, random_state=0)\n",
    "X_train_rg, X_test_rg, y_train_rg, y_test_rg = train_test_split(regression_x,regression_y, test_size=0.25, random_state=0)"
   ]
  },
  {
   "cell_type": "code",
   "execution_count": 135,
   "id": "73c652c4-a9e6-4b1b-abce-f644da287b97",
   "metadata": {},
   "outputs": [],
   "source": [
    "# Build the model with Functional API\n",
    "# Look at https://keras.io/guides/functional_api/\n",
    "def build_model():\n",
    "    inputs = Input(shape=(4,))\n",
    "    # Classification portion of model\n",
    "    layer_class = Dense(32,kernel_regularizer=L1L2(l1=0.2, l2=0.2),activation='sigmoid',name='layer1-cl')(inputs)\n",
    "    layer_class = Dropout(0.1)(layer_class)\n",
    "    layer_class = Dense(8, kernel_regularizer=L1L2(l1=0.2, l2=0.2),activation='sigmoid',name='layer2-cl')(layer_class)\n",
    "    layer_class = Dense(4, kernel_regularizer=L1L2(l1=0.2, l2=0.2),activation='sigmoid',name='layer3-cl')(layer_class)\n",
    "    layer_class = Dropout(0.1)(layer_class)\n",
    "    output_class = Dense(1, activation='sigmoid',name='classification')(layer_class)\n",
    "    # Regression portion of model\n",
    "    layer_reg = Dense(128,activation='relu',name='layer1-reg')(inputs)\n",
    "    layer_reg = Dense(64,activation='relu',name='layer2-reg')(layer_reg)\n",
    "    layer_reg = Dense(32,activation='relu',name='layer3-reg')(layer_reg)\n",
    "    layer_reg = Dense(8,activation='relu',name='layer5-reg')(layer_reg)\n",
    "    layer_reg = Dense(4,activation='relu',name='layer6-reg')(layer_reg)\n",
    "    output_reg = Dense(1, activation='linear',name='regression')(layer_reg)\n",
    "    # Final Model\n",
    "    model = Model(inputs=inputs, outputs=[output_class,output_reg],name=\"double_model\")\n",
    "    return model"
   ]
  },
  {
   "cell_type": "code",
   "execution_count": 136,
   "id": "90c48326-9fa5-4a0c-833f-3ea8c68bbef8",
   "metadata": {},
   "outputs": [
    {
     "data": {
      "image/png": "[encoded data removed]",
      "text/plain": [
       "<IPython.core.display.Image object>"
      ]
     },
     "execution_count": 136,
     "metadata": {},
     "output_type": "execute_result"
    }
   ],
   "source": [
    "# Verifying outline of model\n",
    "model = build_model()\n",
    "keras.utils.plot_model(model, \"Images/double_model.png\", show_shapes=True)"
   ]
  },
  {
   "cell_type": "code",
   "execution_count": 137,
   "id": "7cf4fba8-f3b4-421d-bf87-a31d57178735",
   "metadata": {},
   "outputs": [],
   "source": [
    "# Compile the model \n",
    "from keras import metrics\n",
    "model = build_model()\n",
    "model.compile(\n",
    "    loss=['binary_crossentropy', 'mse'],\n",
    "    optimizer=tf.keras.optimizers.Adam(learning_rate=0.001),\n",
    "    metrics=[\"binary_accuracy\", 'accuracy']\n",
    ")"
   ]
  },
  {
   "cell_type": "markdown",
   "id": "a327fe20-2804-40c5-bd39-9316ee40d104",
   "metadata": {
    "tags": []
   },
   "source": [
    "## Run the Model"
   ]
  },
  {
   "cell_type": "code",
   "execution_count": 138,
   "id": "694d2f47-1744-4734-b97e-6aa69af7951d",
   "metadata": {
    "tags": []
   },
   "outputs": [
    {
     "name": "stdout",
     "output_type": "stream",
     "text": [
      "3/3 [==============================] - 0s 2ms/step\n",
      "3/3 [==============================] - 0s 1ms/step\n",
      "3/3 [==============================] - 0s 1ms/step\n",
      "3/3 [==============================] - 0s 1ms/step\n",
      "3/3 [==============================] - 0s 1ms/step\n",
      "3/3 [==============================] - 0s 1ms/step\n",
      "3/3 [==============================] - 0s 1ms/step\n",
      "3/3 [==============================] - 0s 1ms/step\n",
      "3/3 [==============================] - 0s 1ms/step\n",
      "3/3 [==============================] - 0s 1ms/step\n"
     ]
    }
   ],
   "source": [
    "EPOCHS = 101\n",
    "num_of_epochs = np.array(range(1,EPOCHS))\n",
    "n_split=10\n",
    "\n",
    "loss_cl, acc_cl, loss_rg, y_test_rg_lst, predict_rg_lst, lst_of_epochs  = [], [], [], [], [], []\n",
    "\n",
    "# Using KFolds to test more on our data since we have a smaller dataset\n",
    "for train_index,test_index in KFold(n_split).split(classification_x):\n",
    "    X_train_cl,X_test_cl=classification_x[train_index],classification_x[test_index]\n",
    "    y_train_cl,y_test_cl=classification_y[train_index],classification_y[test_index]\n",
    "    X_train_rg,X_test_rg=regression_x[train_index],regression_x[test_index]\n",
    "    y_train_rg,y_test_rg=regression_y[train_index],regression_y[test_index]\n",
    "    \n",
    "    # Fitting the model\n",
    "    history = model.fit(x=X_train_cl,y=[y_train_cl,y_train_rg],batch_size=16, verbose=0,shuffle=True, epochs = EPOCHS,steps_per_epoch=int(X_train_cl.shape[0]/16))\n",
    "    \n",
    "    # Appending values to list for plotting purposes\n",
    "    class_loss = history.history[\"classification_loss\"]\n",
    "    loss_cl.append(class_loss)\n",
    "    \n",
    "    class_acc = history.history[\"classification_binary_accuracy\"]\n",
    "    acc_cl.append(class_acc)\n",
    "    \n",
    "    reg_loss = history.history['regression_loss']\n",
    "    loss_rg.append(reg_loss)\n",
    "    \n",
    "    y_test_rg = [float(i) for i in y_test_rg]\n",
    "    y_test_rg_lst.append(y_test_rg)\n",
    "    \n",
    "    tmp_test = model.predict(X_test_rg)\n",
    "    predict_rg = tmp_test[1]\n",
    "    predict_rg = [float(i) for i in predict_rg]\n",
    "    predict_rg_lst.append(predict_rg)\n",
    "    \n",
    "    lst_of_epochs.append(num_of_epochs)"
   ]
  },
  {
   "cell_type": "markdown",
   "id": "58e0c044-547f-4040-84a3-54fa3e15a5d7",
   "metadata": {
    "tags": []
   },
   "source": [
    "## Plot the Model"
   ]
  },
  {
   "cell_type": "code",
   "execution_count": 151,
   "id": "5c705652-a37a-438b-aa1a-cc061f52549f",
   "metadata": {
    "tags": []
   },
   "outputs": [],
   "source": [
    "def plot_kfold(x,y,xname,yname,type_of_plot,title_of_plot):\n",
    "    \n",
    "    fig = go.Figure()\n",
    "    \n",
    "    mode_type = ''\n",
    "    if type_of_plot == 'loss' or type_of_plot == 'acc':\n",
    "        mode_type = 'lines'\n",
    "    else:\n",
    "        mode_type = 'markers'\n",
    "    \n",
    "    for i in range(len(x)):\n",
    "        fig.add_trace(go.Scatter(x=x[i], y=y[i],\n",
    "                        mode=mode_type,\n",
    "                        name=f'Fold Number {i+1}'))\n",
    "        \n",
    "    # If the plot if for a regression line\n",
    "    if mode_type == 'markers':\n",
    "        flatten_x = [i for lst in x for i in lst]\n",
    "        flatten_y = [i for lst in y for i in lst]\n",
    "        ary_x = np.array(flatten_x)\n",
    "        ary_y = np.array(flatten_y)            \n",
    "        model_lin = LinearRegression().fit(np.vstack(ary_x), ary_y)\n",
    "        temp_reg_x = ary_x.reshape(-1, 1)\n",
    "        temp_reg_y = ary_y.reshape(-1, 1)\n",
    "        r_squared = model_lin.score(temp_reg_y, temp_reg_x)\n",
    "        bestfit = model_lin.predict(temp_reg_x)\n",
    "        # Run model on x data\n",
    "        fig.add_trace(\n",
    "            go.Scatter(\n",
    "                x=flatten_x,\n",
    "                y=bestfit,\n",
    "                mode=\"lines\",\n",
    "                opacity=0.8,\n",
    "                marker=dict(color=\"Blue\"),\n",
    "                name=f'Trendline Over All Folds: {str(round(float(model_lin.coef_[0]), 2)) + \"x \" + str(round(model_lin.intercept_, 2))}',\n",
    "            )\n",
    "        )\n",
    "        fig.add_trace(\n",
    "            go.Scatter(\n",
    "                x=flatten_x,\n",
    "                y=[bestfit[0]],\n",
    "                name=\"R-squared Over All Fold: \" + str(round(r_squared, 2)),\n",
    "                showlegend=True,\n",
    "                mode=\"markers\",\n",
    "                marker=dict(color=\"rgba(0,0,0,0)\"),\n",
    "            )\n",
    "        )\n",
    "        fig.add_trace(\n",
    "            go.Scatter(\n",
    "                x=[0.8],\n",
    "                y=[0.25],\n",
    "                mode=\"text\",\n",
    "                text=f\"R-squared: {str(round(r_squared, 2))}\",\n",
    "                showlegend=False,\n",
    "            )\n",
    "        )\n",
    "\n",
    "        \n",
    "        \n",
    "        \n",
    "    fig.update_layout(title=title_of_plot, xaxis_title=xname,yaxis_title=yname,\n",
    "                      font=dict(\n",
    "                          family=\"Courier New, monospace\",\n",
    "                          size=14))\n",
    "    fig.write_image(f\"Images/{title_of_plot}.png\",engine=\"kaleido\")\n",
    "    fig.show()"
   ]
  },
  {
   "cell_type": "code",
   "execution_count": 152,
   "id": "f8b62860-78df-4e22-9e19-7a55a5a5ef52",
   "metadata": {},
   "outputs": [
    {
     "ename": "ValueError",
     "evalue": "\nImage export using the \"kaleido\" engine requires the kaleido package,\nwhich can be installed using pip:\n    $ pip install -U kaleido\n",
     "output_type": "error",
     "traceback": [
      "\u001b[1;31m---------------------------------------------------------------------------\u001b[0m",
      "\u001b[1;31mValueError\u001b[0m                                Traceback (most recent call last)",
      "\u001b[1;32m~\\AppData\\Local\\Temp/ipykernel_12616/1994771624.py\u001b[0m in \u001b[0;36m<module>\u001b[1;34m\u001b[0m\n\u001b[1;32m----> 1\u001b[1;33m \u001b[0mplot_kfold\u001b[0m\u001b[1;33m(\u001b[0m\u001b[0mlst_of_epochs\u001b[0m\u001b[1;33m,\u001b[0m\u001b[0mloss_cl\u001b[0m\u001b[1;33m,\u001b[0m\u001b[1;34m'Num of Epochs'\u001b[0m\u001b[1;33m,\u001b[0m\u001b[1;34m'Loss'\u001b[0m\u001b[1;33m,\u001b[0m \u001b[1;34m'loss'\u001b[0m\u001b[1;33m,\u001b[0m \u001b[1;34m'Classification Loss For Each Fold'\u001b[0m\u001b[1;33m)\u001b[0m\u001b[1;33m\u001b[0m\u001b[1;33m\u001b[0m\u001b[0m\n\u001b[0m\u001b[0;32m      2\u001b[0m \u001b[0mplot_kfold\u001b[0m\u001b[1;33m(\u001b[0m\u001b[0mlst_of_epochs\u001b[0m\u001b[1;33m,\u001b[0m\u001b[0macc_cl\u001b[0m\u001b[1;33m,\u001b[0m\u001b[1;34m'Num of Epochs'\u001b[0m\u001b[1;33m,\u001b[0m\u001b[1;34m'Accuracy'\u001b[0m\u001b[1;33m,\u001b[0m \u001b[1;34m'acc'\u001b[0m\u001b[1;33m,\u001b[0m \u001b[1;34m'Classification Acc For Each Fold'\u001b[0m\u001b[1;33m)\u001b[0m\u001b[1;33m\u001b[0m\u001b[1;33m\u001b[0m\u001b[0m\n\u001b[0;32m      3\u001b[0m \u001b[0mplot_kfold\u001b[0m\u001b[1;33m(\u001b[0m\u001b[0mlst_of_epochs\u001b[0m\u001b[1;33m,\u001b[0m\u001b[0mloss_rg\u001b[0m\u001b[1;33m,\u001b[0m\u001b[1;34m'Num of Epochs'\u001b[0m\u001b[1;33m,\u001b[0m\u001b[1;34m'Loss'\u001b[0m\u001b[1;33m,\u001b[0m \u001b[1;34m'loss'\u001b[0m\u001b[1;33m,\u001b[0m \u001b[1;34m'Regression Loss For Each Fold'\u001b[0m\u001b[1;33m)\u001b[0m\u001b[1;33m\u001b[0m\u001b[1;33m\u001b[0m\u001b[0m\n\u001b[0;32m      4\u001b[0m \u001b[0mplot_kfold\u001b[0m\u001b[1;33m(\u001b[0m\u001b[0my_test_rg_lst\u001b[0m\u001b[1;33m,\u001b[0m\u001b[0mpredict_rg_lst\u001b[0m\u001b[1;33m,\u001b[0m\u001b[1;34m'Actual'\u001b[0m\u001b[1;33m,\u001b[0m\u001b[1;34m'Predicted'\u001b[0m\u001b[1;33m,\u001b[0m \u001b[1;34m'predict'\u001b[0m\u001b[1;33m,\u001b[0m \u001b[1;34m'Actual and Predicted Regression Values For Each Fold'\u001b[0m\u001b[1;33m)\u001b[0m\u001b[1;33m\u001b[0m\u001b[1;33m\u001b[0m\u001b[0m\n",
      "\u001b[1;32m~\\AppData\\Local\\Temp/ipykernel_12616/1440864587.py\u001b[0m in \u001b[0;36mplot_kfold\u001b[1;34m(x, y, xname, yname, type_of_plot, title_of_plot)\u001b[0m\n\u001b[0;32m     63\u001b[0m                           \u001b[0mfamily\u001b[0m\u001b[1;33m=\u001b[0m\u001b[1;34m\"Courier New, monospace\"\u001b[0m\u001b[1;33m,\u001b[0m\u001b[1;33m\u001b[0m\u001b[1;33m\u001b[0m\u001b[0m\n\u001b[0;32m     64\u001b[0m                           size=14))\n\u001b[1;32m---> 65\u001b[1;33m     \u001b[0mfig\u001b[0m\u001b[1;33m.\u001b[0m\u001b[0mwrite_image\u001b[0m\u001b[1;33m(\u001b[0m\u001b[1;34mf\"Images/{title_of_plot}.png\"\u001b[0m\u001b[1;33m,\u001b[0m\u001b[0mengine\u001b[0m\u001b[1;33m=\u001b[0m\u001b[1;34m\"kaleido\"\u001b[0m\u001b[1;33m)\u001b[0m\u001b[1;33m\u001b[0m\u001b[1;33m\u001b[0m\u001b[0m\n\u001b[0m\u001b[0;32m     66\u001b[0m     \u001b[0mfig\u001b[0m\u001b[1;33m.\u001b[0m\u001b[0mshow\u001b[0m\u001b[1;33m(\u001b[0m\u001b[1;33m)\u001b[0m\u001b[1;33m\u001b[0m\u001b[1;33m\u001b[0m\u001b[0m\n",
      "\u001b[1;32m~\\Documents\\Anaconda\\lib\\site-packages\\plotly\\basedatatypes.py\u001b[0m in \u001b[0;36mwrite_image\u001b[1;34m(self, *args, **kwargs)\u001b[0m\n\u001b[0;32m   3827\u001b[0m         \"\"\"\n\u001b[0;32m   3828\u001b[0m         \u001b[0mReturn\u001b[0m \u001b[0mtrue\u001b[0m \u001b[0mof\u001b[0m \u001b[0mthe\u001b[0m \u001b[0minput\u001b[0m \u001b[0mobject\u001b[0m \u001b[1;32mis\u001b[0m \u001b[0ma\u001b[0m \u001b[0mlist\u001b[0m \u001b[0mof\u001b[0m \u001b[0mdicts\u001b[0m\u001b[1;33m\u001b[0m\u001b[1;33m\u001b[0m\u001b[0m\n\u001b[1;32m-> 3829\u001b[1;33m         \"\"\"\n\u001b[0m\u001b[0;32m   3830\u001b[0m         \u001b[1;32mreturn\u001b[0m \u001b[0misinstance\u001b[0m\u001b[1;33m(\u001b[0m\u001b[0mv\u001b[0m\u001b[1;33m,\u001b[0m \u001b[0mlist\u001b[0m\u001b[1;33m)\u001b[0m \u001b[1;32mand\u001b[0m \u001b[0mlen\u001b[0m\u001b[1;33m(\u001b[0m\u001b[0mv\u001b[0m\u001b[1;33m)\u001b[0m \u001b[1;33m>\u001b[0m \u001b[1;36m0\u001b[0m \u001b[1;32mand\u001b[0m \u001b[0misinstance\u001b[0m\u001b[1;33m(\u001b[0m\u001b[0mv\u001b[0m\u001b[1;33m[\u001b[0m\u001b[1;36m0\u001b[0m\u001b[1;33m]\u001b[0m\u001b[1;33m,\u001b[0m \u001b[0mdict\u001b[0m\u001b[1;33m)\u001b[0m\u001b[1;33m\u001b[0m\u001b[1;33m\u001b[0m\u001b[0m\n\u001b[0;32m   3831\u001b[0m \u001b[1;33m\u001b[0m\u001b[0m\n",
      "\u001b[1;32m~\\Documents\\Anaconda\\lib\\site-packages\\plotly\\io\\_kaleido.py\u001b[0m in \u001b[0;36mwrite_image\u001b[1;34m(fig, file, format, scale, width, height, validate, engine)\u001b[0m\n\u001b[0;32m    265\u001b[0m     \u001b[1;31m# Request image\u001b[0m\u001b[1;33m\u001b[0m\u001b[1;33m\u001b[0m\u001b[0m\n\u001b[0;32m    266\u001b[0m     \u001b[1;31m# -------------\u001b[0m\u001b[1;33m\u001b[0m\u001b[1;33m\u001b[0m\u001b[0m\n\u001b[1;32m--> 267\u001b[1;33m     \u001b[1;31m# Do this first so we don't create a file if image conversion fails\u001b[0m\u001b[1;33m\u001b[0m\u001b[1;33m\u001b[0m\u001b[0m\n\u001b[0m\u001b[0;32m    268\u001b[0m     img_data = to_image(\n\u001b[0;32m    269\u001b[0m         \u001b[0mfig\u001b[0m\u001b[1;33m,\u001b[0m\u001b[1;33m\u001b[0m\u001b[1;33m\u001b[0m\u001b[0m\n",
      "\u001b[1;32m~\\Documents\\Anaconda\\lib\\site-packages\\plotly\\io\\_kaleido.py\u001b[0m in \u001b[0;36mto_image\u001b[1;34m(fig, format, width, height, scale, validate, engine)\u001b[0m\n\u001b[0;32m    131\u001b[0m \u001b[1;33m\u001b[0m\u001b[0m\n\u001b[0;32m    132\u001b[0m     \u001b[1;31m# Raise informative error message if Kaleido is not installed\u001b[0m\u001b[1;33m\u001b[0m\u001b[1;33m\u001b[0m\u001b[0m\n\u001b[1;32m--> 133\u001b[1;33m     \u001b[1;32mif\u001b[0m \u001b[0mscope\u001b[0m \u001b[1;32mis\u001b[0m \u001b[1;32mNone\u001b[0m\u001b[1;33m:\u001b[0m\u001b[1;33m\u001b[0m\u001b[1;33m\u001b[0m\u001b[0m\n\u001b[0m\u001b[0;32m    134\u001b[0m         raise ValueError(\n\u001b[0;32m    135\u001b[0m             \"\"\"\n",
      "\u001b[1;31mValueError\u001b[0m: \nImage export using the \"kaleido\" engine requires the kaleido package,\nwhich can be installed using pip:\n    $ pip install -U kaleido\n"
     ]
    }
   ],
   "source": [
    "plot_kfold(lst_of_epochs,loss_cl,'Num of Epochs','Loss', 'loss', 'Classification Loss For Each Fold')\n",
    "plot_kfold(lst_of_epochs,acc_cl,'Num of Epochs','Accuracy', 'acc', 'Classification Acc For Each Fold')\n",
    "plot_kfold(lst_of_epochs,loss_rg,'Num of Epochs','Loss', 'loss', 'Regression Loss For Each Fold')\n",
    "plot_kfold(y_test_rg_lst,predict_rg_lst,'Actual','Predicted', 'predict', 'Actual and Predicted Regression Values For Each Fold')"
   ]
  },
  {
   "cell_type": "markdown",
   "id": "514c101c-8786-472c-a8d8-2f7267ba3d97",
   "metadata": {},
   "source": [
    "## Results/Conclusions"
   ]
  },
  {
   "cell_type": "markdown",
   "id": "bc33c848-0828-4fc7-a02f-49c5f90f8537",
   "metadata": {},
   "source": [
    "From the final plots we can see that out classification model is performing about the same as the machine learning approach or sometimes worse. This shows that there may be room for imporvement or that there isnt enough data in general - even with the kfold - to increase accuracy. As for the regression we see that we get much better R2 values compared to the machine learning approach. Using just a single deep learning model we can see that we can save time and achieve equal or greater results than using a machine learning approach when it comes to classifying and predicting a fire and its initial spread."
   ]
  }
 ],
 "metadata": {
  "kernelspec": {
   "display_name": "Python 3 (ipykernel)",
   "language": "python",
   "name": "python3"
  },
  "language_info": {
   "codemirror_mode": {
    "name": "ipython",
    "version": 3
   },
   "file_extension": ".py",
   "mimetype": "text/x-python",
   "name": "python",
   "nbconvert_exporter": "python",
   "pygments_lexer": "ipython3",
   "version": "3.9.7"
  }
 },
 "nbformat": 4,
 "nbformat_minor": 5
}
