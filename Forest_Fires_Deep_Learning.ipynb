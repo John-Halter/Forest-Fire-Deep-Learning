{
 "cells": [
  {
   "cell_type": "code",
   "execution_count": 2,
   "id": "62ac016a-2f6f-4d33-a536-5084c32526ff",
   "metadata": {},
   "outputs": [],
   "source": [
    "import pandas as pd\n",
    "import plotly.graph_objects as go\n",
    "import matplotlib.pyplot as plt\n",
    "import numpy as np\n",
    "from scipy.stats import zscore\n",
    "from tensorflow.keras.layers.experimental import RandomFourierFeatures"
   ]
  },
  {
   "cell_type": "code",
   "execution_count": 3,
   "id": "40daf2fd-d655-4400-b884-e617652abc87",
   "metadata": {},
   "outputs": [
    {
     "data": {
      "text/html": [
       "<div>\n",
       "<style scoped>\n",
       "    .dataframe tbody tr th:only-of-type {\n",
       "        vertical-align: middle;\n",
       "    }\n",
       "\n",
       "    .dataframe tbody tr th {\n",
       "        vertical-align: top;\n",
       "    }\n",
       "\n",
       "    .dataframe thead th {\n",
       "        text-align: right;\n",
       "    }\n",
       "</style>\n",
       "<table border=\"1\" class=\"dataframe\">\n",
       "  <thead>\n",
       "    <tr style=\"text-align: right;\">\n",
       "      <th></th>\n",
       "      <th>Temp</th>\n",
       "      <th>Humidity</th>\n",
       "      <th>Wind</th>\n",
       "      <th>Rain</th>\n",
       "      <th>ISI</th>\n",
       "      <th>Actual Fire</th>\n",
       "    </tr>\n",
       "  </thead>\n",
       "  <tbody>\n",
       "    <tr>\n",
       "      <th>0</th>\n",
       "      <td>8.2</td>\n",
       "      <td>51.0</td>\n",
       "      <td>6.7</td>\n",
       "      <td>0.0</td>\n",
       "      <td>5.1</td>\n",
       "      <td>0.0</td>\n",
       "    </tr>\n",
       "    <tr>\n",
       "      <th>1</th>\n",
       "      <td>18.0</td>\n",
       "      <td>33.0</td>\n",
       "      <td>0.9</td>\n",
       "      <td>0.0</td>\n",
       "      <td>6.7</td>\n",
       "      <td>0.0</td>\n",
       "    </tr>\n",
       "    <tr>\n",
       "      <th>2</th>\n",
       "      <td>14.6</td>\n",
       "      <td>33.0</td>\n",
       "      <td>1.3</td>\n",
       "      <td>0.0</td>\n",
       "      <td>6.7</td>\n",
       "      <td>0.0</td>\n",
       "    </tr>\n",
       "    <tr>\n",
       "      <th>3</th>\n",
       "      <td>8.3</td>\n",
       "      <td>97.0</td>\n",
       "      <td>4.0</td>\n",
       "      <td>0.2</td>\n",
       "      <td>9.0</td>\n",
       "      <td>0.0</td>\n",
       "    </tr>\n",
       "    <tr>\n",
       "      <th>4</th>\n",
       "      <td>11.4</td>\n",
       "      <td>99.0</td>\n",
       "      <td>1.8</td>\n",
       "      <td>0.0</td>\n",
       "      <td>9.6</td>\n",
       "      <td>0.0</td>\n",
       "    </tr>\n",
       "    <tr>\n",
       "      <th>...</th>\n",
       "      <td>...</td>\n",
       "      <td>...</td>\n",
       "      <td>...</td>\n",
       "      <td>...</td>\n",
       "      <td>...</td>\n",
       "      <td>...</td>\n",
       "    </tr>\n",
       "    <tr>\n",
       "      <th>756</th>\n",
       "      <td>30.0</td>\n",
       "      <td>65.0</td>\n",
       "      <td>14.0</td>\n",
       "      <td>0.0</td>\n",
       "      <td>4.5</td>\n",
       "      <td>1.0</td>\n",
       "    </tr>\n",
       "    <tr>\n",
       "      <th>757</th>\n",
       "      <td>28.0</td>\n",
       "      <td>87.0</td>\n",
       "      <td>15.0</td>\n",
       "      <td>4.4</td>\n",
       "      <td>0.1</td>\n",
       "      <td>0.0</td>\n",
       "    </tr>\n",
       "    <tr>\n",
       "      <th>758</th>\n",
       "      <td>27.0</td>\n",
       "      <td>87.0</td>\n",
       "      <td>29.0</td>\n",
       "      <td>0.5</td>\n",
       "      <td>0.4</td>\n",
       "      <td>0.0</td>\n",
       "    </tr>\n",
       "    <tr>\n",
       "      <th>759</th>\n",
       "      <td>24.0</td>\n",
       "      <td>54.0</td>\n",
       "      <td>18.0</td>\n",
       "      <td>0.1</td>\n",
       "      <td>1.7</td>\n",
       "      <td>0.0</td>\n",
       "    </tr>\n",
       "    <tr>\n",
       "      <th>760</th>\n",
       "      <td>24.0</td>\n",
       "      <td>64.0</td>\n",
       "      <td>15.0</td>\n",
       "      <td>0.2</td>\n",
       "      <td>1.2</td>\n",
       "      <td>0.0</td>\n",
       "    </tr>\n",
       "  </tbody>\n",
       "</table>\n",
       "<p>760 rows × 6 columns</p>\n",
       "</div>"
      ],
      "text/plain": [
       "     Temp  Humidity  Wind  Rain  ISI  Actual Fire\n",
       "0     8.2      51.0   6.7   0.0  5.1          0.0\n",
       "1    18.0      33.0   0.9   0.0  6.7          0.0\n",
       "2    14.6      33.0   1.3   0.0  6.7          0.0\n",
       "3     8.3      97.0   4.0   0.2  9.0          0.0\n",
       "4    11.4      99.0   1.8   0.0  9.6          0.0\n",
       "..    ...       ...   ...   ...  ...          ...\n",
       "756  30.0      65.0  14.0   0.0  4.5          1.0\n",
       "757  28.0      87.0  15.0   4.4  0.1          0.0\n",
       "758  27.0      87.0  29.0   0.5  0.4          0.0\n",
       "759  24.0      54.0  18.0   0.1  1.7          0.0\n",
       "760  24.0      64.0  15.0   0.2  1.2          0.0\n",
       "\n",
       "[760 rows x 6 columns]"
      ]
     },
     "execution_count": 3,
     "metadata": {},
     "output_type": "execute_result"
    }
   ],
   "source": [
    "%store -r final_df\n",
    "final_df"
   ]
  },
  {
   "cell_type": "code",
   "execution_count": 4,
   "id": "c23fd256-9f0c-4e8b-bbd9-81033c1f45dc",
   "metadata": {},
   "outputs": [
    {
     "data": {
      "text/plain": [
       "Int64Index([ 11,  22, 266, 499, 519, 608, 609, 610, 621, 622, 633, 640, 655,\n",
       "            656, 657, 676, 735, 736, 757, 758],\n",
       "           dtype='int64')"
      ]
     },
     "execution_count": 4,
     "metadata": {},
     "output_type": "execute_result"
    }
   ],
   "source": [
    "final_df_remove_outliers = final_df[(np.abs(zscore(final_df)) < 3).all(axis=1)]\n",
    "\n",
    "final_df.index.difference(final_df_remove_outliers.index)"
   ]
  },
  {
   "cell_type": "code",
   "execution_count": 5,
   "id": "205a1f55-e498-4cc8-8ff7-76bfe2addcdb",
   "metadata": {},
   "outputs": [],
   "source": [
    "# Normalize columns as to not deal with different units\n",
    "final_df_remove_outliers = final_df_remove_outliers / final_df_remove_outliers.max()"
   ]
  },
  {
   "cell_type": "markdown",
   "id": "6568c5ef-cc03-40fe-9d98-8a93252c84db",
   "metadata": {
    "tags": []
   },
   "source": [
    "## Building The Model"
   ]
  },
  {
   "cell_type": "markdown",
   "id": "9a25597c-96fa-499d-b011-eb55f9ce22fe",
   "metadata": {},
   "source": [
    "Outline of building model:\n",
    "split training and testing sets\n",
    "create model"
   ]
  },
  {
   "cell_type": "code",
   "execution_count": 6,
   "id": "4093f8ba-6ac4-4c34-a1eb-385bc9002035",
   "metadata": {},
   "outputs": [],
   "source": [
    "import numpy as np\n",
    "import tensorflow as tf\n",
    "from tensorflow import keras\n",
    "from tensorflow.keras import layers\n",
    "from sklearn.model_selection import train_test_split\n",
    "from tensorflow.keras.models import Model\n",
    "from keras.layers import Dense, Input\n",
    "import tensorflow_addons as tfa"
   ]
  },
  {
   "cell_type": "code",
   "execution_count": 7,
   "id": "410181d3-83ff-4805-9ddc-cd8a09827286",
   "metadata": {},
   "outputs": [],
   "source": [
    "classification_x = final_df_remove_outliers.iloc[:,: -2].values\n",
    "classification_y = final_df_remove_outliers.iloc[:,-1 :].values"
   ]
  },
  {
   "cell_type": "code",
   "execution_count": 8,
   "id": "efb53a83-c226-4070-b872-6accda8c516d",
   "metadata": {},
   "outputs": [
    {
     "name": "stdout",
     "output_type": "stream",
     "text": [
      "(740, 4) (740, 1)\n"
     ]
    }
   ],
   "source": [
    "print(classification_x.shape, classification_y.shape)"
   ]
  },
  {
   "cell_type": "code",
   "execution_count": 9,
   "id": "95df4d1a-2717-4ac7-be8b-203a1eb7e260",
   "metadata": {},
   "outputs": [],
   "source": [
    "regression_x = final_df_remove_outliers.iloc[:,: -2].values\n",
    "regression_y = final_df_remove_outliers.iloc[:,-2:-1].values"
   ]
  },
  {
   "cell_type": "code",
   "execution_count": 10,
   "id": "999b1016-6a9d-4afc-bc74-acdec3aa82f6",
   "metadata": {},
   "outputs": [
    {
     "name": "stdout",
     "output_type": "stream",
     "text": [
      "(740, 4) (740, 1)\n"
     ]
    }
   ],
   "source": [
    "print(regression_x.shape, regression_y.shape)"
   ]
  },
  {
   "cell_type": "code",
   "execution_count": 11,
   "id": "2e27e09b-5d78-4606-a651-806ccad1b162",
   "metadata": {},
   "outputs": [],
   "source": [
    "X_train_cl, X_test_cl, y_train_cl, y_test_cl = train_test_split(classification_x,classification_y, test_size=0.33, random_state=0)\n",
    "X_train_rg, X_test_rg, y_train_rg, y_test_rg = train_test_split(regression_x,regression_y, test_size=0.33, random_state=0)"
   ]
  },
  {
   "cell_type": "code",
   "execution_count": 12,
   "id": "73c652c4-a9e6-4b1b-abce-f644da287b97",
   "metadata": {},
   "outputs": [],
   "source": [
    "# Build the model with Functional API\n",
    "# Look at https://keras.io/guides/functional_api/\n",
    "inputs = Input(shape=(4,))\n",
    "layer_class = Dense(52,input_shape=(4,), kernel_initializer='normal',activation='sigmoid',name='layer1')(inputs)\n",
    "layer_class = Dense(28, kernel_initializer='normal',activation='sigmoid',name='layer2')(layer_class)\n",
    "output_class = Dense(1, kernel_initializer='normal', activation='softmax',name='classification')(layer_class)\n",
    "\n",
    "# inputs_reg = Input(shape=(7,))\n",
    "layer_reg = Dense(52,input_shape=(4,),activation='relu',name='layer3')(inputs)\n",
    "layer_reg = Dense(28,input_shape=(4,),activation='relu',name='layer4')(layer_reg)\n",
    "layer_reg = RandomFourierFeatures(\n",
    "            output_dim=1, kernel_initializer=\"gaussian\"\n",
    "        )(layer_reg)\n",
    "output_reg = Dense(1, activation='linear',name='regression')(layer_reg)\n",
    "\n",
    "c_model = Model(inputs=inputs, outputs=[output_class,output_reg],name=\"double_model\")"
   ]
  },
  {
   "cell_type": "markdown",
   "id": "ea515026-344d-47f5-adbf-035d8cfdf1af",
   "metadata": {
    "tags": []
   },
   "source": [
    "inputs_reg = Input(shape=(7,))\n",
    "layer_reg = Dense(7,input_shape=(7,),activation='relu')(inputs_reg)\n",
    "output_reg = Dense(1, activation='linear')(layer_reg)\n",
    "reg_model = Model(inputs=inputs_reg, outputs=output_reg,name=\"single_model\")"
   ]
  },
  {
   "cell_type": "markdown",
   "id": "3089597d-b4dc-4a94-952c-ff6b71332288",
   "metadata": {},
   "source": [
    "from keras import metrics\n",
    "reg_model.compile(\n",
    "    loss= 'mse',\n",
    "    optimizer=tf.keras.optimizers.SGD(learning_rate=0.001),\n",
    "    metrics= 'accuracy'\n",
    ")"
   ]
  },
  {
   "cell_type": "markdown",
   "id": "afa55bbf-1d17-4758-8dba-6e00ca266116",
   "metadata": {},
   "source": [
    "checkpoint = MergeMetrics()\n",
    "reg_model.fit(x=regression_x, y=regression_y, epochs = 10)"
   ]
  },
  {
   "cell_type": "code",
   "execution_count": 13,
   "id": "90c48326-9fa5-4a0c-833f-3ea8c68bbef8",
   "metadata": {},
   "outputs": [
    {
     "data": {
      "image/png": "[encoded data removed]",
      "text/plain": [
       "<IPython.core.display.Image object>"
      ]
     },
     "execution_count": 13,
     "metadata": {},
     "output_type": "execute_result"
    }
   ],
   "source": [
    "keras.utils.plot_model(c_model, \"double_model.png\", show_shapes=True)"
   ]
  },
  {
   "cell_type": "code",
   "execution_count": 14,
   "id": "7cf4fba8-f3b4-421d-bf87-a31d57178735",
   "metadata": {},
   "outputs": [],
   "source": [
    "# Compile the model \n",
    "from keras import metrics\n",
    "c_model.compile(\n",
    "    loss=['binary_crossentropy', 'mse'],\n",
    "    optimizer=tf.keras.optimizers.Adam(learning_rate=0.001),\n",
    "    metrics=[\"binary_accuracy\", 'accuracy']\n",
    ")"
   ]
  },
  {
   "cell_type": "code",
   "execution_count": 15,
   "id": "5006992a-fa8f-4b11-9b01-f418d5fc087e",
   "metadata": {},
   "outputs": [],
   "source": [
    "from keras.callbacks import Callback\n",
    "class MergeMetrics(Callback):\n",
    "\n",
    "    def __init__(self,**kargs):\n",
    "        super(MergeMetrics,self).__init__(**kargs)\n",
    "\n",
    "    def on_epoch_begin(self,epoch, logs={}):\n",
    "        return\n",
    "\n",
    "    def on_epoch_end(self, epoch, logs={}):\n",
    "        logs['loss'] = logs[\"classification_loss\"]+logs['regression_loss']\n",
    "        logs['total_accuracy'] = logs[\"classification_binary_accuracy\"]+logs['regression_accuracy']"
   ]
  },
  {
   "cell_type": "code",
   "execution_count": 16,
   "id": "694d2f47-1744-4734-b97e-6aa69af7951d",
   "metadata": {},
   "outputs": [
    {
     "data": {
      "text/html": [
       "<div>\n",
       "<style scoped>\n",
       "    .dataframe tbody tr th:only-of-type {\n",
       "        vertical-align: middle;\n",
       "    }\n",
       "\n",
       "    .dataframe tbody tr th {\n",
       "        vertical-align: top;\n",
       "    }\n",
       "\n",
       "    .dataframe thead th {\n",
       "        text-align: right;\n",
       "    }\n",
       "</style>\n",
       "<table border=\"1\" class=\"dataframe\">\n",
       "  <thead>\n",
       "    <tr style=\"text-align: right;\">\n",
       "      <th></th>\n",
       "      <th>Class Loss</th>\n",
       "      <th>Class Acc</th>\n",
       "      <th>Reg Loss</th>\n",
       "      <th>Reg Acc</th>\n",
       "      <th>Total Loss</th>\n",
       "      <th>Total Acc</th>\n",
       "    </tr>\n",
       "  </thead>\n",
       "  <tbody>\n",
       "    <tr>\n",
       "      <th>0</th>\n",
       "      <td>0.691005</td>\n",
       "      <td>0.545946</td>\n",
       "      <td>0.345392</td>\n",
       "      <td>0.001351</td>\n",
       "      <td>1.036397</td>\n",
       "      <td>0.547297</td>\n",
       "    </tr>\n",
       "    <tr>\n",
       "      <th>1</th>\n",
       "      <td>0.689369</td>\n",
       "      <td>0.545946</td>\n",
       "      <td>0.073460</td>\n",
       "      <td>0.005405</td>\n",
       "      <td>0.762829</td>\n",
       "      <td>0.551351</td>\n",
       "    </tr>\n",
       "    <tr>\n",
       "      <th>2</th>\n",
       "      <td>0.688995</td>\n",
       "      <td>0.545946</td>\n",
       "      <td>0.045886</td>\n",
       "      <td>0.006757</td>\n",
       "      <td>0.734881</td>\n",
       "      <td>0.552703</td>\n",
       "    </tr>\n",
       "    <tr>\n",
       "      <th>3</th>\n",
       "      <td>0.689083</td>\n",
       "      <td>0.545946</td>\n",
       "      <td>0.038974</td>\n",
       "      <td>0.005405</td>\n",
       "      <td>0.728057</td>\n",
       "      <td>0.551351</td>\n",
       "    </tr>\n",
       "    <tr>\n",
       "      <th>4</th>\n",
       "      <td>0.689045</td>\n",
       "      <td>0.545946</td>\n",
       "      <td>0.036829</td>\n",
       "      <td>0.005405</td>\n",
       "      <td>0.725873</td>\n",
       "      <td>0.551351</td>\n",
       "    </tr>\n",
       "    <tr>\n",
       "      <th>5</th>\n",
       "      <td>0.689576</td>\n",
       "      <td>0.545946</td>\n",
       "      <td>0.035567</td>\n",
       "      <td>0.005405</td>\n",
       "      <td>0.725143</td>\n",
       "      <td>0.551351</td>\n",
       "    </tr>\n",
       "    <tr>\n",
       "      <th>6</th>\n",
       "      <td>0.689065</td>\n",
       "      <td>0.545946</td>\n",
       "      <td>0.034327</td>\n",
       "      <td>0.005405</td>\n",
       "      <td>0.723392</td>\n",
       "      <td>0.551351</td>\n",
       "    </tr>\n",
       "    <tr>\n",
       "      <th>7</th>\n",
       "      <td>0.688938</td>\n",
       "      <td>0.545946</td>\n",
       "      <td>0.033310</td>\n",
       "      <td>0.005405</td>\n",
       "      <td>0.722249</td>\n",
       "      <td>0.551351</td>\n",
       "    </tr>\n",
       "    <tr>\n",
       "      <th>8</th>\n",
       "      <td>0.689131</td>\n",
       "      <td>0.545946</td>\n",
       "      <td>0.032168</td>\n",
       "      <td>0.005405</td>\n",
       "      <td>0.721299</td>\n",
       "      <td>0.551351</td>\n",
       "    </tr>\n",
       "    <tr>\n",
       "      <th>9</th>\n",
       "      <td>0.688855</td>\n",
       "      <td>0.545946</td>\n",
       "      <td>0.031238</td>\n",
       "      <td>0.005405</td>\n",
       "      <td>0.720093</td>\n",
       "      <td>0.551351</td>\n",
       "    </tr>\n",
       "  </tbody>\n",
       "</table>\n",
       "</div>"
      ],
      "text/plain": [
       "   Class Loss  Class Acc  Reg Loss   Reg Acc  Total Loss  Total Acc\n",
       "0    0.691005   0.545946  0.345392  0.001351    1.036397   0.547297\n",
       "1    0.689369   0.545946  0.073460  0.005405    0.762829   0.551351\n",
       "2    0.688995   0.545946  0.045886  0.006757    0.734881   0.552703\n",
       "3    0.689083   0.545946  0.038974  0.005405    0.728057   0.551351\n",
       "4    0.689045   0.545946  0.036829  0.005405    0.725873   0.551351\n",
       "5    0.689576   0.545946  0.035567  0.005405    0.725143   0.551351\n",
       "6    0.689065   0.545946  0.034327  0.005405    0.723392   0.551351\n",
       "7    0.688938   0.545946  0.033310  0.005405    0.722249   0.551351\n",
       "8    0.689131   0.545946  0.032168  0.005405    0.721299   0.551351\n",
       "9    0.688855   0.545946  0.031238  0.005405    0.720093   0.551351"
      ]
     },
     "execution_count": 16,
     "metadata": {},
     "output_type": "execute_result"
    }
   ],
   "source": [
    "checkpoint = MergeMetrics()\n",
    "history = c_model.fit(x=regression_x,y=[classification_y,regression_y], verbose=0, epochs = 10,callbacks=[checkpoint])\n",
    "total_loss = history.history['loss']\n",
    "total_accuracy = history.history['total_accuracy']\n",
    "class_loss = history.history[\"classification_loss\"]\n",
    "reg_loss = history.history['regression_loss']\n",
    "class_acc = history.history[\"classification_binary_accuracy\"]\n",
    "reg_acc = history.history['regression_accuracy']\n",
    "loss_acc_dict = {'Class Loss':class_loss,'Class Acc':class_acc,'Reg Loss': reg_loss, 'Reg Acc': reg_acc, 'Total Loss':total_loss, 'Total Acc':total_accuracy}\n",
    "loss_acc_df = pd.DataFrame(loss_acc_dict)\n",
    "loss_acc_df"
   ]
  },
  {
   "cell_type": "code",
   "execution_count": null,
   "id": "3ced730f-5472-4368-aab8-992a1b5166f6",
   "metadata": {},
   "outputs": [],
   "source": []
  },
  {
   "cell_type": "code",
   "execution_count": null,
   "id": "b68d4641-f444-4396-bd56-46001dc3fa89",
   "metadata": {},
   "outputs": [],
   "source": []
  }
 ],
 "metadata": {
  "kernelspec": {
   "display_name": "Python 3 (ipykernel)",
   "language": "python",
   "name": "python3"
  },
  "language_info": {
   "codemirror_mode": {
    "name": "ipython",
    "version": 3
   },
   "file_extension": ".py",
   "mimetype": "text/x-python",
   "name": "python",
   "nbconvert_exporter": "python",
   "pygments_lexer": "ipython3",
   "version": "3.9.7"
  }
 },
 "nbformat": 4,
 "nbformat_minor": 5
}
