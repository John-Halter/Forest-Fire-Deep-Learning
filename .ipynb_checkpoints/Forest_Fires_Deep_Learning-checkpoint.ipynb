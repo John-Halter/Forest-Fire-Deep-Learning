{
 "cells": [
  {
   "cell_type": "code",
   "execution_count": 1,
   "id": "62ac016a-2f6f-4d33-a536-5084c32526ff",
   "metadata": {},
   "outputs": [],
   "source": [
    "import pandas as pd\n",
    "import plotly.graph_objects as go\n",
    "import matplotlib.pyplot as plt\n",
    "import numpy as np\n",
    "from scipy.stats import zscore\n",
    "from sklearn import preprocessing\n",
    "from plot_keras_history import show_history, plot_history"
   ]
  },
  {
   "cell_type": "code",
   "execution_count": 5,
   "id": "4093f8ba-6ac4-4c34-a1eb-385bc9002035",
   "metadata": {},
   "outputs": [],
   "source": [
    "import numpy as np\n",
    "import tensorflow as tf\n",
    "from tensorflow import keras\n",
    "from tensorflow.keras import layers\n",
    "from sklearn.model_selection import train_test_split\n",
    "from tensorflow.keras.models import Model\n",
    "from keras.layers import Dense, Input, Dropout\n",
    "import tensorflow_addons as tfa\n",
    "from keras.regularizers import L1L2"
   ]
  },
  {
   "cell_type": "code",
   "execution_count": 2,
   "id": "40daf2fd-d655-4400-b884-e617652abc87",
   "metadata": {},
   "outputs": [
    {
     "data": {
      "text/html": [
       "<div>\n",
       "<style scoped>\n",
       "    .dataframe tbody tr th:only-of-type {\n",
       "        vertical-align: middle;\n",
       "    }\n",
       "\n",
       "    .dataframe tbody tr th {\n",
       "        vertical-align: top;\n",
       "    }\n",
       "\n",
       "    .dataframe thead th {\n",
       "        text-align: right;\n",
       "    }\n",
       "</style>\n",
       "<table border=\"1\" class=\"dataframe\">\n",
       "  <thead>\n",
       "    <tr style=\"text-align: right;\">\n",
       "      <th></th>\n",
       "      <th>Temp</th>\n",
       "      <th>Humidity</th>\n",
       "      <th>Wind</th>\n",
       "      <th>Rain</th>\n",
       "      <th>ISI</th>\n",
       "      <th>Actual Fire</th>\n",
       "    </tr>\n",
       "  </thead>\n",
       "  <tbody>\n",
       "    <tr>\n",
       "      <th>0</th>\n",
       "      <td>8.2</td>\n",
       "      <td>51.0</td>\n",
       "      <td>6.7</td>\n",
       "      <td>0.0</td>\n",
       "      <td>5.1</td>\n",
       "      <td>0.0</td>\n",
       "    </tr>\n",
       "    <tr>\n",
       "      <th>1</th>\n",
       "      <td>18.0</td>\n",
       "      <td>33.0</td>\n",
       "      <td>0.9</td>\n",
       "      <td>0.0</td>\n",
       "      <td>6.7</td>\n",
       "      <td>0.0</td>\n",
       "    </tr>\n",
       "    <tr>\n",
       "      <th>2</th>\n",
       "      <td>14.6</td>\n",
       "      <td>33.0</td>\n",
       "      <td>1.3</td>\n",
       "      <td>0.0</td>\n",
       "      <td>6.7</td>\n",
       "      <td>0.0</td>\n",
       "    </tr>\n",
       "    <tr>\n",
       "      <th>3</th>\n",
       "      <td>8.3</td>\n",
       "      <td>97.0</td>\n",
       "      <td>4.0</td>\n",
       "      <td>0.2</td>\n",
       "      <td>9.0</td>\n",
       "      <td>0.0</td>\n",
       "    </tr>\n",
       "    <tr>\n",
       "      <th>4</th>\n",
       "      <td>11.4</td>\n",
       "      <td>99.0</td>\n",
       "      <td>1.8</td>\n",
       "      <td>0.0</td>\n",
       "      <td>9.6</td>\n",
       "      <td>0.0</td>\n",
       "    </tr>\n",
       "    <tr>\n",
       "      <th>...</th>\n",
       "      <td>...</td>\n",
       "      <td>...</td>\n",
       "      <td>...</td>\n",
       "      <td>...</td>\n",
       "      <td>...</td>\n",
       "      <td>...</td>\n",
       "    </tr>\n",
       "    <tr>\n",
       "      <th>756</th>\n",
       "      <td>30.0</td>\n",
       "      <td>65.0</td>\n",
       "      <td>14.0</td>\n",
       "      <td>0.0</td>\n",
       "      <td>4.5</td>\n",
       "      <td>1.0</td>\n",
       "    </tr>\n",
       "    <tr>\n",
       "      <th>757</th>\n",
       "      <td>28.0</td>\n",
       "      <td>87.0</td>\n",
       "      <td>15.0</td>\n",
       "      <td>4.4</td>\n",
       "      <td>0.1</td>\n",
       "      <td>0.0</td>\n",
       "    </tr>\n",
       "    <tr>\n",
       "      <th>758</th>\n",
       "      <td>27.0</td>\n",
       "      <td>87.0</td>\n",
       "      <td>29.0</td>\n",
       "      <td>0.5</td>\n",
       "      <td>0.4</td>\n",
       "      <td>0.0</td>\n",
       "    </tr>\n",
       "    <tr>\n",
       "      <th>759</th>\n",
       "      <td>24.0</td>\n",
       "      <td>54.0</td>\n",
       "      <td>18.0</td>\n",
       "      <td>0.1</td>\n",
       "      <td>1.7</td>\n",
       "      <td>0.0</td>\n",
       "    </tr>\n",
       "    <tr>\n",
       "      <th>760</th>\n",
       "      <td>24.0</td>\n",
       "      <td>64.0</td>\n",
       "      <td>15.0</td>\n",
       "      <td>0.2</td>\n",
       "      <td>1.2</td>\n",
       "      <td>0.0</td>\n",
       "    </tr>\n",
       "  </tbody>\n",
       "</table>\n",
       "<p>760 rows × 6 columns</p>\n",
       "</div>"
      ],
      "text/plain": [
       "     Temp  Humidity  Wind  Rain  ISI  Actual Fire\n",
       "0     8.2      51.0   6.7   0.0  5.1          0.0\n",
       "1    18.0      33.0   0.9   0.0  6.7          0.0\n",
       "2    14.6      33.0   1.3   0.0  6.7          0.0\n",
       "3     8.3      97.0   4.0   0.2  9.0          0.0\n",
       "4    11.4      99.0   1.8   0.0  9.6          0.0\n",
       "..    ...       ...   ...   ...  ...          ...\n",
       "756  30.0      65.0  14.0   0.0  4.5          1.0\n",
       "757  28.0      87.0  15.0   4.4  0.1          0.0\n",
       "758  27.0      87.0  29.0   0.5  0.4          0.0\n",
       "759  24.0      54.0  18.0   0.1  1.7          0.0\n",
       "760  24.0      64.0  15.0   0.2  1.2          0.0\n",
       "\n",
       "[760 rows x 6 columns]"
      ]
     },
     "execution_count": 2,
     "metadata": {},
     "output_type": "execute_result"
    }
   ],
   "source": [
    "%store -r final_df\n",
    "final_df"
   ]
  },
  {
   "cell_type": "code",
   "execution_count": 3,
   "id": "c23fd256-9f0c-4e8b-bbd9-81033c1f45dc",
   "metadata": {},
   "outputs": [
    {
     "data": {
      "text/plain": [
       "Int64Index([ 11,  22, 266, 499, 519, 608, 609, 610, 621, 622, 633, 640, 655,\n",
       "            656, 657, 676, 735, 736, 757, 758],\n",
       "           dtype='int64')"
      ]
     },
     "execution_count": 3,
     "metadata": {},
     "output_type": "execute_result"
    }
   ],
   "source": [
    "final_df_remove_outliers = final_df[(np.abs(zscore(final_df)) < 3).all(axis=1)]\n",
    "\n",
    "final_df.index.difference(final_df_remove_outliers.index)"
   ]
  },
  {
   "cell_type": "code",
   "execution_count": 4,
   "id": "205a1f55-e498-4cc8-8ff7-76bfe2addcdb",
   "metadata": {},
   "outputs": [],
   "source": [
    "# Scale the data\n",
    "x = final_df_remove_outliers.values #returns a numpy array\n",
    "min_max_scaler = preprocessing.MinMaxScaler()\n",
    "x_scaled = min_max_scaler.fit_transform(x)\n",
    "final_df_scaled = pd.DataFrame(x_scaled)"
   ]
  },
  {
   "cell_type": "markdown",
   "id": "6568c5ef-cc03-40fe-9d98-8a93252c84db",
   "metadata": {
    "tags": []
   },
   "source": [
    "## Building The Model"
   ]
  },
  {
   "cell_type": "markdown",
   "id": "9a25597c-96fa-499d-b011-eb55f9ce22fe",
   "metadata": {},
   "source": [
    "Outline of building model:\n",
    "split training and testing sets\n",
    "create model"
   ]
  },
  {
   "cell_type": "code",
   "execution_count": 6,
   "id": "410181d3-83ff-4805-9ddc-cd8a09827286",
   "metadata": {},
   "outputs": [],
   "source": [
    "classification_x = final_df_scaled.iloc[:,: -2].values\n",
    "classification_y = final_df_scaled.iloc[:,-1 :].values"
   ]
  },
  {
   "cell_type": "code",
   "execution_count": 7,
   "id": "efb53a83-c226-4070-b872-6accda8c516d",
   "metadata": {},
   "outputs": [
    {
     "name": "stdout",
     "output_type": "stream",
     "text": [
      "(740, 4) (740, 1)\n"
     ]
    }
   ],
   "source": [
    "print(classification_x.shape, classification_y.shape)"
   ]
  },
  {
   "cell_type": "code",
   "execution_count": 8,
   "id": "95df4d1a-2717-4ac7-be8b-203a1eb7e260",
   "metadata": {},
   "outputs": [],
   "source": [
    "regression_x = final_df_scaled.iloc[:,: -2].values\n",
    "regression_y = final_df_scaled.iloc[:,-2:-1].values"
   ]
  },
  {
   "cell_type": "code",
   "execution_count": 9,
   "id": "999b1016-6a9d-4afc-bc74-acdec3aa82f6",
   "metadata": {},
   "outputs": [
    {
     "name": "stdout",
     "output_type": "stream",
     "text": [
      "(740, 4) (740, 1)\n"
     ]
    }
   ],
   "source": [
    "print(regression_x.shape, regression_y.shape)"
   ]
  },
  {
   "cell_type": "code",
   "execution_count": 10,
   "id": "2e27e09b-5d78-4606-a651-806ccad1b162",
   "metadata": {},
   "outputs": [],
   "source": [
    "X_train_cl, X_test_cl, y_train_cl, y_test_cl = train_test_split(classification_x,classification_y, test_size=0.25, random_state=0)\n",
    "X_train_rg, X_test_rg, y_train_rg, y_test_rg = train_test_split(regression_x,regression_y, test_size=0.25, random_state=0)"
   ]
  },
  {
   "cell_type": "code",
   "execution_count": 11,
   "id": "73c652c4-a9e6-4b1b-abce-f644da287b97",
   "metadata": {},
   "outputs": [],
   "source": [
    "# Build the model with Functional API\n",
    "# Look at https://keras.io/guides/functional_api/\n",
    "def build_model():\n",
    "    inputs = Input(shape=(4,))\n",
    "\n",
    "    layer_class = Dense(32,kernel_regularizer=L1L2(l1=0.2, l2=0.2),activation='sigmoid',name='layer1-cl')(inputs)\n",
    "    layer_class = Dropout(0.1)(layer_class)\n",
    "    layer_class = Dense(8, kernel_regularizer=L1L2(l1=0.2, l2=0.2),activation='sigmoid',name='layer2-cl')(layer_class)\n",
    "    layer_class = Dense(4, kernel_regularizer=L1L2(l1=0.2, l2=0.2),activation='sigmoid',name='layer3-cl')(layer_class)\n",
    "    layer_class = Dropout(0.1)(layer_class)\n",
    "    output_class = Dense(1, activation='sigmoid',name='classification')(layer_class)\n",
    "\n",
    "    layer_reg = Dense(128,activation='relu',name='layer1-reg')(inputs)\n",
    "    layer_reg = Dense(64,activation='relu',name='layer2-reg')(layer_reg)\n",
    "    layer_reg = Dense(32,activation='relu',name='layer3-reg')(layer_reg)\n",
    "    layer_reg = Dense(8,activation='relu',name='layer5-reg')(layer_reg)\n",
    "    layer_reg = Dense(4,activation='relu',name='layer6-reg')(layer_reg)\n",
    "    output_reg = Dense(1, activation='linear',name='regression')(layer_reg)\n",
    "\n",
    "    model = Model(inputs=inputs, outputs=[output_class,output_reg],name=\"double_model\")\n",
    "    return model"
   ]
  },
  {
   "cell_type": "code",
   "execution_count": 13,
   "id": "90c48326-9fa5-4a0c-833f-3ea8c68bbef8",
   "metadata": {},
   "outputs": [
    {
     "data": {
      "image/png": "[encoded data removed]",
      "text/plain": [
       "<IPython.core.display.Image object>"
      ]
     },
     "execution_count": 13,
     "metadata": {},
     "output_type": "execute_result"
    }
   ],
   "source": [
    "model = build_model()\n",
    "keras.utils.plot_model(model, \"double_model.png\", show_shapes=True)"
   ]
  },
  {
   "cell_type": "code",
   "execution_count": 24,
   "id": "7cf4fba8-f3b4-421d-bf87-a31d57178735",
   "metadata": {},
   "outputs": [],
   "source": [
    "# Compile the model \n",
    "from keras import metrics\n",
    "model = build_model()\n",
    "model.compile(\n",
    "    loss=['binary_crossentropy', 'mse'],\n",
    "    optimizer=tf.keras.optimizers.Adam(learning_rate=0.001),\n",
    "    metrics=[\"binary_accuracy\", 'accuracy']\n",
    ")"
   ]
  },
  {
   "cell_type": "code",
   "execution_count": 25,
   "id": "5006992a-fa8f-4b11-9b01-f418d5fc087e",
   "metadata": {},
   "outputs": [],
   "source": [
    "from keras.callbacks import Callback\n",
    "class MergeMetrics(Callback):\n",
    "\n",
    "    def __init__(self,**kargs):\n",
    "        super(MergeMetrics,self).__init__(**kargs)\n",
    "\n",
    "    def on_epoch_begin(self,epoch, logs={}):\n",
    "        return\n",
    "\n",
    "    def on_epoch_end(self, epoch, logs={}):\n",
    "        logs['loss'] = logs[\"classification_loss\"]+logs['regression_loss']"
   ]
  },
  {
   "cell_type": "code",
   "execution_count": 26,
   "id": "694d2f47-1744-4734-b97e-6aa69af7951d",
   "metadata": {},
   "outputs": [
    {
     "name": "stdout",
     "output_type": "stream",
     "text": [
      "[  1   2   3   4   5   6   7   8   9  10  11  12  13  14  15  16  17  18\n",
      "  19  20  21  22  23  24  25  26  27  28  29  30  31  32  33  34  35  36\n",
      "  37  38  39  40  41  42  43  44  45  46  47  48  49  50  51  52  53  54\n",
      "  55  56  57  58  59  60  61  62  63  64  65  66  67  68  69  70  71  72\n",
      "  73  74  75  76  77  78  79  80  81  82  83  84  85  86  87  88  89  90\n",
      "  91  92  93  94  95  96  97  98  99 100]\n"
     ]
    }
   ],
   "source": [
    "checkpoint = MergeMetrics()\n",
    "EPOCHS = 101\n",
    "# history = model.fit(x=regression_x,y=[classification_y,regression_y] ,batch_size=16, verbose=0,shuffle=True, epochs = 100,steps_per_epoch=int(X_train_rg.shape[0]/16),callbacks=[checkpoint])\n",
    "list_of_epochs = np.array(range(1,EPOCHS))\n",
    "\n",
    "from sklearn.model_selection import KFold\n",
    "n_split=10\n",
    "\n",
    "for train_index,test_index in KFold(n_split).split(classification_x):\n",
    "    X_train_cl,X_test_cl=classification_x[train_index],classification_x[test_index]\n",
    "    y_train_cl,y_test_cl=classification_y[train_index],classification_y[test_index]\n",
    "    X_train_rg,X_test_rg=regression_x[train_index],regression_x[test_index]\n",
    "    y_train_rg,y_test_rg=regression_y[train_index],regression_y[test_index]\n",
    "    \n",
    "    history = model.fit(x=X_train_cl,y=[y_train_cl,y_train_rg],batch_size=16, verbose=0,shuffle=True, epochs = EPOCHS,steps_per_epoch=int(X_train_cl.shape[0]/16),callbacks=[checkpoint])\n",
    "    \n",
    "    \n",
    "    \"\"\"\n",
    "    all list of lists\n",
    "    Need classification loss y - list_of_epochs x\n",
    "    Need classification acc y - list_of_epochs x\n",
    "    Need reg loss y - list_of_epochs x\n",
    "    \n",
    "    so a  y_test_rg for x - test_reg x\n",
    "    test_set = c_model.predict(X_test_rg)\n",
    "    test_reg = test_set[1]\n",
    "    plt.plot(y_test_rg,test_reg)\n",
    "    plt.xlabel('Actual')\n",
    "    plt.ylabel('Predicted')\n",
    "    \n",
    "    \n",
    "    With this can create a function for plotly that iterates over len of lists of lists and plots each one depending on iteration to show each fold\n",
    "    \n",
    "    \n",
    "    \"\"\"\n",
    "    \n",
    "    # test_set = c_model.predict(X_test_rg)\n",
    "    # test_reg = test_set[1]\n",
    "    # from sklearn.metrics import r2_score\n",
    "    # plt.plot(y_test_rg,test_reg,'ro')\n",
    "    # plt.title('Training Set')\n",
    "    # plt.xlabel('Actual')\n",
    "    # plt.ylabel('Predicted')\n",
    "    # plt.show()\n",
    "    # print(r2_score(y_test_rg,test_reg))\n",
    "    # show_history(history)\n",
    "    # plot_history(history)\n",
    "    # plt.close()\n",
    "    \n",
    "    \n",
    "# class_loss = history.history[\"classification_loss\"]\n",
    "# print(class_loss)\n",
    "# reg_loss = history.history['regression_loss']\n",
    "# class_acc = history.history[\"classification_binary_accuracy\"]\n",
    "# reg_acc = history.history['regression_accuracy']\n",
    "# loss_acc_dict = {'Class Loss':class_loss,'Class Acc':class_acc,'Reg Loss': reg_loss, 'Reg Acc': reg_acc}\n",
    "# loss_acc_df = pd.DataFrame(loss_acc_dict)\n",
    "# show_history(history)\n",
    "# plot_history(history)\n",
    "# plt.close()\n",
    "\n",
    "# loss_acc_df"
   ]
  },
  {
   "cell_type": "code",
   "execution_count": 28,
   "id": "b68d4641-f444-4396-bd56-46001dc3fa89",
   "metadata": {},
   "outputs": [
    {
     "name": "stdout",
     "output_type": "stream",
     "text": [
      "3/3 [==============================] - 0s 1ms/step\n"
     ]
    }
   ],
   "source": [
    "test_set = model.predict(X_test_rg)\n",
    "test_reg = test_set[1]"
   ]
  },
  {
   "cell_type": "code",
   "execution_count": 29,
   "id": "b091b3c8-1f12-45cd-b402-a796446fbbf6",
   "metadata": {},
   "outputs": [
    {
     "name": "stdout",
     "output_type": "stream",
     "text": [
      "0.9132474947108595\n"
     ]
    },
    {
     "data": {
      "image/png": "[encoded data removed]",
      "text/plain": [
       "<Figure size 432x288 with 1 Axes>"
      ]
     },
     "metadata": {
      "needs_background": "light"
     },
     "output_type": "display_data"
    }
   ],
   "source": [
    "from sklearn.metrics import r2_score\n",
    "plt.plot(y_test_rg,test_reg,'ro')\n",
    "plt.title('Training Set')\n",
    "plt.xlabel('Actual')\n",
    "plt.ylabel('Predicted')\n",
    "print(r2_score(y_test_rg,test_reg))"
   ]
  },
  {
   "cell_type": "code",
   "execution_count": null,
   "id": "9d39c01e-7ee4-49b4-b76a-c3d05de9f9c4",
   "metadata": {},
   "outputs": [],
   "source": []
  }
 ],
 "metadata": {
  "kernelspec": {
   "display_name": "Python 3 (ipykernel)",
   "language": "python",
   "name": "python3"
  },
  "language_info": {
   "codemirror_mode": {
    "name": "ipython",
    "version": 3
   },
   "file_extension": ".py",
   "mimetype": "text/x-python",
   "name": "python",
   "nbconvert_exporter": "python",
   "pygments_lexer": "ipython3",
   "version": "3.9.7"
  }
 },
 "nbformat": 4,
 "nbformat_minor": 5
}
